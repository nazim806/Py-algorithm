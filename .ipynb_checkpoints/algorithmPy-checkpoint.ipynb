{
 "cells": [
  {
   "cell_type": "code",
   "execution_count": 2,
   "metadata": {},
   "outputs": [],
   "source": [
    "#Reverse Integer\n",
    "#Given an integer, return the integer with reversed digits.\n",
    "#Note, the integer could be either positive or negative.\n"
   ]
  },
  {
   "cell_type": "code",
   "execution_count": 5,
   "metadata": {},
   "outputs": [
    {
     "name": "stdout",
     "output_type": "stream",
     "text": [
      "-132\n",
      "543\n"
     ]
    }
   ],
   "source": [
    "def solution(x):\n",
    "  string = str(x)\n",
    "\n",
    "  if string[0] == '-':\n",
    "        return int('-' + string[:0: - 1])\n",
    "  else:\n",
    "        return int(string[::-1])\n",
    " \n",
    "print(solution(-231))\n",
    "print (solution(345)) \n",
    "     "
   ]
  },
  {
   "cell_type": "code",
   "execution_count": null,
   "metadata": {},
   "outputs": [],
   "source": [
    "#Average words length\n",
    "#For a given sentence, return the average word length.\n",
    "#Note: Remember to remove punctuation first\n"
   ]
  },
  {
   "cell_type": "code",
   "execution_count": 8,
   "metadata": {},
   "outputs": [
    {
     "name": "stdout",
     "output_type": "stream",
     "text": [
      "3.82\n",
      "3.78\n"
     ]
    }
   ],
   "source": [
    "sentence1 = \"Every day in every way, I'm getting better and better...!\"\n",
    "sentence2 = \"The quick brown fox jumped over a lazy dog....\"\n",
    "\n",
    "def word_length(sentence):\n",
    "    for p in \"!?':.;,\":\n",
    "        sentence = sentence.replace(p, ' ')\n",
    "    words = sentence.split()\n",
    "    return round(sum(len(word) for word in words)/len(words), 2)\n",
    "\n",
    "print (word_length(sentence1))\n",
    "print (word_length(sentence2))"
   ]
  },
  {
   "cell_type": "code",
   "execution_count": 1,
   "metadata": {},
   "outputs": [],
   "source": [
    "#Add Strings\n",
    "#Given two non-negstive integers num1 and num2 represented as string, return the sum of num1 and num2.\n"
   ]
  },
  {
   "cell_type": "code",
   "execution_count": 2,
   "metadata": {},
   "outputs": [
    {
     "name": "stdout",
     "output_type": "stream",
     "text": [
      "10332\n"
     ]
    }
   ],
   "source": [
    "num1 = '456'\n",
    "num2 = '9876'\n",
    "\n",
    "def add_strings (num1, num2):\n",
    "    eval(num1) + eval (num2)\n",
    "    return str(eval(num1) + eval(num2))\n",
    "print(add_strings(num1,num2))"
   ]
  },
  {
   "cell_type": "code",
   "execution_count": 21,
   "metadata": {},
   "outputs": [],
   "source": [
    "# First Unique Character\n",
    "#Given a string, find the first non-repeating character in it and return its index.\n",
    "#if it does not exist, return -1.\n"
   ]
  },
  {
   "cell_type": "code",
   "execution_count": 3,
   "metadata": {},
   "outputs": [
    {
     "name": "stdout",
     "output_type": "stream",
     "text": [
      "1\n",
      "2\n",
      "1\n"
     ]
    }
   ],
   "source": [
    "def unique_char(char):\n",
    "    frequency = {}\n",
    "    for i in char:\n",
    "        if i not in frequency:\n",
    "            frequency[i] =1\n",
    "        else:\n",
    "            frequency[i] +=1\n",
    "    for i in range(len(char)):\n",
    "        if frequency[char[i]] == 1:\n",
    "            return i\n",
    "    return -1\n",
    "print(unique_char('alphabet'))\n",
    "print(unique_char('barbados'))\n",
    "print(unique_char('crunchy'))"
   ]
  },
  {
   "cell_type": "code",
   "execution_count": null,
   "metadata": {},
   "outputs": [],
   "source": [
    "##Valid Palindrome\n",
    "#Given a non-empty string s, you may delete at most one character. Judge whether you can make it a valid palindrome.\n"
   ]
  },
  {
   "cell_type": "code",
   "execution_count": 7,
   "metadata": {},
   "outputs": [
    {
     "data": {
      "text/plain": [
       "True"
      ]
     },
     "execution_count": 7,
     "metadata": {},
     "output_type": "execute_result"
    }
   ],
   "source": [
    "s= 'tattarrattato'\n",
    "def valid_palindrome(s):\n",
    "    for i in range(len(s)):\n",
    "        t = s[:i] + s[i+1]\n",
    "        if t == t[::-1]: return True\n",
    "    return s == s[::-1]\n",
    "valid_palindrome(s)"
   ]
  },
  {
   "cell_type": "code",
   "execution_count": null,
   "metadata": {},
   "outputs": [],
   "source": [
    "## Monotonic Array\n",
    "# Given an array of integers, determine whether the array is monotonic or not.\n"
   ]
  },
  {
   "cell_type": "code",
   "execution_count": 9,
   "metadata": {},
   "outputs": [
    {
     "name": "stdout",
     "output_type": "stream",
     "text": [
      "True\n",
      "False\n",
      "True\n"
     ]
    }
   ],
   "source": [
    "A = [6,5,4,4]\n",
    "B = [1,1,1,3,3,4,2,4,2]\n",
    "C = [1,1,2,3,7]\n",
    "\n",
    "def isMonotonic(nums):\n",
    "    return (all(nums[i] <= nums[i+1] for i in range(len(nums)-1)) or\n",
    "            all(nums[i] >= nums[i+1] for i in range(len(nums)-1)))\n",
    "print (isMonotonic(A))\n",
    "print (isMonotonic(B))\n",
    "print (isMonotonic(C))"
   ]
  },
  {
   "cell_type": "code",
   "execution_count": 16,
   "metadata": {},
   "outputs": [],
   "source": [
    "## **Move Zeroes**\n",
    "#Given an array nums, write a function to move all zeroes to the end of it while maintaining \n",
    "# the relative order of the non-zero elements"
   ]
  },
  {
   "cell_type": "code",
   "execution_count": 17,
   "metadata": {},
   "outputs": [
    {
     "data": {
      "text/plain": [
       "[1, 7, 8, 10, 12, 4, 0, 0, 0, 0]"
      ]
     },
     "execution_count": 17,
     "metadata": {},
     "output_type": "execute_result"
    }
   ],
   "source": [
    "array1 = [0,1,0,3,12]\n",
    "array2 = [1,7,0,0,8,0,10,12,0,4]\n",
    "\n",
    "def move_zeroes(nums):\n",
    "    for i in nums:\n",
    "        if 0 in nums: \n",
    "            nums.remove(0)\n",
    "            nums.append(0)\n",
    "    return nums\n",
    "\n",
    "move_zeroes(array1)\n",
    "\n",
    "move_zeroes(array2)"
   ]
  },
  {
   "cell_type": "code",
   "execution_count": 22,
   "metadata": {},
   "outputs": [],
   "source": [
    "# Fill in the Blanks\n",
    "\n",
    "#Given an array containing None values fill in the None values with most recent non-None value in the array."
   ]
  },
  {
   "cell_type": "code",
   "execution_count": 24,
   "metadata": {},
   "outputs": [
    {
     "data": {
      "text/plain": [
       "[1, 1, 2, 3, 3, 3, 5, 5]"
      ]
     },
     "execution_count": 24,
     "metadata": {},
     "output_type": "execute_result"
    }
   ],
   "source": [
    "array1 = [1, None, 2, 3, None, None, 5, None]\n",
    "\n",
    "def fill_blanks(array):\n",
    "    valid = 0\n",
    "    res = []\n",
    "    for i in array:\n",
    "        if i is not None:\n",
    "            res.append(i)\n",
    "            valid = i\n",
    "        else:\n",
    "            res.append(valid)\n",
    "    return res\n",
    "fill_blanks(array1)"
   ]
  },
  {
   "cell_type": "code",
   "execution_count": 25,
   "metadata": {},
   "outputs": [],
   "source": [
    "#Matched and Mismatched words\n",
    "# Given two sentences, return an array that has the words that appear in one sentence and not the other.\n",
    "# another array with the <b> words in common."
   ]
  },
  {
   "cell_type": "code",
   "execution_count": 26,
   "metadata": {},
   "outputs": [
    {
     "name": "stdout",
     "output_type": "stream",
     "text": [
      "(['The', 'We', 'a', 'are', 'by', 'heavy', 'hit', 'in', 'meet', 'our', 'pleased', 'storm', 'to', 'was', 'you'], ['city', 'really'])\n"
     ]
    }
   ],
   "source": [
    "sentence1 = \"We are really pleased to meet you in our city\"\n",
    "sentence2 = \"The city was hit by a really heavy storm\"\n",
    "\n",
    "def solution(sentence1, sentence2):\n",
    "    set1 = set(sentence1.split())\n",
    "    set2 = set(sentence2.split())\n",
    "    \n",
    "    return sorted(list(set1^set2)), sorted(list(set1&set2))\n",
    "\n",
    "print(solution(sentence1, sentence2))\n"
   ]
  },
  {
   "cell_type": "code",
   "execution_count": 29,
   "metadata": {},
   "outputs": [],
   "source": [
    "#Prime Numbers Array\n",
    "# Given k numbers which are less than n, return the set of prime number among them\n",
    "# Note: the task is to write a program to print all prime numbers in an interval."
   ]
  },
  {
   "cell_type": "code",
   "execution_count": 40,
   "metadata": {},
   "outputs": [
    {
     "data": {
      "text/plain": [
       "[2, 3, 5, 7, 11, 13, 17, 19, 23, 29, 31, 37, 41, 43, 47, 53, 59, 61, 67, 71]"
      ]
     },
     "execution_count": 40,
     "metadata": {},
     "output_type": "execute_result"
    }
   ],
   "source": [
    "n = 73\n",
    "def solution(n):\n",
    "    prime_nums = []\n",
    "    for num in range(n):\n",
    "        if num > 1:\n",
    "            for i in range(2, num):\n",
    "                if (num % i) == 0:\n",
    "                     break\n",
    "            else:\n",
    "                prime_nums.append(num)\n",
    "    return prime_nums\n",
    "solution(n)"
   ]
  },
  {
   "cell_type": "code",
   "execution_count": null,
   "metadata": {},
   "outputs": [],
   "source": []
  }
 ],
 "metadata": {
  "kernelspec": {
   "display_name": "Python 3",
   "language": "python",
   "name": "python3"
  },
  "language_info": {
   "codemirror_mode": {
    "name": "ipython",
    "version": 3
   },
   "file_extension": ".py",
   "mimetype": "text/x-python",
   "name": "python",
   "nbconvert_exporter": "python",
   "pygments_lexer": "ipython3",
   "version": "3.7.3"
  }
 },
 "nbformat": 4,
 "nbformat_minor": 2
}
