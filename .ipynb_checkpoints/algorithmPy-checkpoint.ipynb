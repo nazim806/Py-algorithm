{
 "cells": [
  {
   "cell_type": "code",
   "execution_count": 2,
   "metadata": {},
   "outputs": [],
   "source": [
    "#Reverse Integer\n",
    "#Given an integer, return the integer with reversed digits.\n",
    "#Note, the integer could be either positive or negative.\n"
   ]
  },
  {
   "cell_type": "code",
   "execution_count": 5,
   "metadata": {},
   "outputs": [
    {
     "name": "stdout",
     "output_type": "stream",
     "text": [
      "-132\n",
      "543\n"
     ]
    }
   ],
   "source": [
    "def solution(x):\n",
    "  string = str(x)\n",
    "\n",
    "  if string[0] == '-':\n",
    "        return int('-' + string[:0: - 1])\n",
    "  else:\n",
    "        return int(string[::-1])\n",
    " \n",
    "print(solution(-231))\n",
    "print (solution(345)) \n",
    "     "
   ]
  },
  {
   "cell_type": "code",
   "execution_count": null,
   "metadata": {},
   "outputs": [],
   "source": [
    "#Average words length\n",
    "#For a given sentence, return the average word length.\n",
    "#Note: Remember to remove punctuation first\n"
   ]
  },
  {
   "cell_type": "code",
   "execution_count": 8,
   "metadata": {},
   "outputs": [
    {
     "name": "stdout",
     "output_type": "stream",
     "text": [
      "3.82\n",
      "3.78\n"
     ]
    }
   ],
   "source": [
    "sentence1 = \"Every day in every way, I'm getting better and better...!\"\n",
    "sentence2 = \"The quick brown fox jumped over a lazy dog....\"\n",
    "\n",
    "def word_length(sentence):\n",
    "    for p in \"!?':.;,\":\n",
    "        sentence = sentence.replace(p, ' ')\n",
    "    words = sentence.split()\n",
    "    return round(sum(len(word) for word in words)/len(words), 2)\n",
    "\n",
    "print (word_length(sentence1))\n",
    "print (word_length(sentence2))"
   ]
  },
  {
   "cell_type": "code",
   "execution_count": 1,
   "metadata": {},
   "outputs": [],
   "source": [
    "#Add Strings\n",
    "#Given two non-negstive integers num1 and num2 represented as string, return the sum of num1 and num2.\n"
   ]
  },
  {
   "cell_type": "code",
   "execution_count": 2,
   "metadata": {},
   "outputs": [
    {
     "name": "stdout",
     "output_type": "stream",
     "text": [
      "10332\n"
     ]
    }
   ],
   "source": [
    "num1 = '456'\n",
    "num2 = '9876'\n",
    "\n",
    "def add_strings (num1, num2):\n",
    "    eval(num1) + eval (num2)\n",
    "    return str(eval(num1) + eval(num2))\n",
    "print(add_strings(num1,num2))"
   ]
  },
  {
   "cell_type": "code",
   "execution_count": null,
   "metadata": {},
   "outputs": [],
   "source": [
    "#First Unique Character\n",
    "#Given a string, find the first non-repeating character in it and return its index.\n",
    "#if it does not exist, return -1."
   ]
  },
  {
   "cell_type": "code",
   "execution_count": 3,
   "metadata": {},
   "outputs": [
    {
     "name": "stdout",
     "output_type": "stream",
     "text": [
      "1\n",
      "2\n",
      "1\n"
     ]
    }
   ],
   "source": [
    "def unique_char(char):\n",
    "    frequency = {}\n",
    "    for i in char:\n",
    "        if i not in frequency:\n",
    "            frequency[i] =1\n",
    "        else:\n",
    "            frequency[i] +=1\n",
    "    for i in range(len(char)):\n",
    "        if frequency[char[i]] == 1:\n",
    "            return i\n",
    "    return -1\n",
    "print(unique_char('alphabet'))\n",
    "print(unique_char('barbados'))\n",
    "print(unique_char('crunchy'))"
   ]
  }
 ],
 "metadata": {
  "kernelspec": {
   "display_name": "Python 3",
   "language": "python",
   "name": "python3"
  },
  "language_info": {
   "codemirror_mode": {
    "name": "ipython",
    "version": 3
   },
   "file_extension": ".py",
   "mimetype": "text/x-python",
   "name": "python",
   "nbconvert_exporter": "python",
   "pygments_lexer": "ipython3",
   "version": "3.7.3"
  }
 },
 "nbformat": 4,
 "nbformat_minor": 2
}
