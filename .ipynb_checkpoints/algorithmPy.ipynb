{
 "cells": [
  {
   "cell_type": "code",
   "execution_count": 2,
   "metadata": {},
   "outputs": [],
   "source": [
    "#Reverse Integer\n",
    "#Given an integer, return the integer with reversed digits.\n",
    "#Note, the integer could be either positive or negative.\n"
   ]
  },
  {
   "cell_type": "code",
   "execution_count": 5,
   "metadata": {},
   "outputs": [
    {
     "name": "stdout",
     "output_type": "stream",
     "text": [
      "-132\n",
      "543\n"
     ]
    }
   ],
   "source": [
    "def solution(x):\n",
    "  string = str(x)\n",
    "\n",
    "  if string[0] == '-':\n",
    "        return int('-' + string[:0: - 1])\n",
    "  else:\n",
    "        return int(string[::-1])\n",
    " \n",
    "print(solution(-231))\n",
    "print (solution(345)) \n",
    "     "
   ]
  },
  {
   "cell_type": "code",
   "execution_count": null,
   "metadata": {},
   "outputs": [],
   "source": [
    "#Average words length\n",
    "#For a given sentence, return the average word length.\n",
    "#Note: Remember to remove punctuation first\n"
   ]
  },
  {
   "cell_type": "code",
   "execution_count": 7,
   "metadata": {},
   "outputs": [
    {
     "name": "stdout",
     "output_type": "stream",
     "text": [
      "3.91\n",
      "3.78\n"
     ]
    }
   ],
   "source": [
    "sentence1 = \"Every day in every way, I'm getting better and better...!\"\n",
    "sentence2 = \"The quick brown fox jumped over a lazy dog....\"\n",
    "\n",
    "def word_length(sentence):\n",
    "    for p in \"!?':.;,\":\n",
    "        sentence = sentence.replace(p, ' ')\n",
    "    words = sentence.split()\n",
    "    return round(sum(len(word) for word in words)/len(words), 2)\n",
    "\n",
    "print (word_length(sentence1))\n",
    "print (word_length(sentence2))"
   ]
  }
 ],
 "metadata": {
  "kernelspec": {
   "display_name": "Python 3",
   "language": "python",
   "name": "python3"
  },
  "language_info": {
   "codemirror_mode": {
    "name": "ipython",
    "version": 3
   },
   "file_extension": ".py",
   "mimetype": "text/x-python",
   "name": "python",
   "nbconvert_exporter": "python",
   "pygments_lexer": "ipython3",
   "version": "3.7.3"
  }
 },
 "nbformat": 4,
 "nbformat_minor": 2
}
